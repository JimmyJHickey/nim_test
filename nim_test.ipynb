{
 "cells": [
  {
   "cell_type": "code",
   "execution_count": 1,
   "id": "6eafffab",
   "metadata": {},
   "outputs": [],
   "source": [
    "from openai import OpenAI"
   ]
  },
  {
   "cell_type": "code",
   "execution_count": 2,
   "id": "6ea0bf90",
   "metadata": {},
   "outputs": [],
   "source": [
    "api_key = \"\"\n",
    "with open(\"nvidia_api_key.txt\", \"r+\") as file:\n",
    "    # Reading from a file\n",
    "    api_key = file.read()\n",
    "\n"
   ]
  },
  {
   "cell_type": "code",
   "execution_count": 11,
   "id": "b633bb77",
   "metadata": {},
   "outputs": [],
   "source": [
    "class LLM():\n",
    "    def __init__(self,\n",
    "                api_key,\n",
    "                model = \"meta/llama3-70b-instruct\"):\n",
    "        \n",
    "        self.client = OpenAI(\n",
    "              base_url = \"https://integrate.api.nvidia.com/v1\",\n",
    "              api_key = api_key\n",
    "            )\n",
    "\n",
    "        self.model = model\n",
    "\n",
    "\n",
    "    def prompt(self, \n",
    "                message,\n",
    "                temperature = 0.5,\n",
    "                top_p = 1,\n",
    "                max_tokens = 1024,\n",
    "                stream = True):\n",
    "\n",
    "\n",
    "\n",
    "        completion = self.client.chat.completions.create(\n",
    "          model = self.model,\n",
    "          messages=[{\"role\":\"user\",\"content\":message}],\n",
    "          temperature = 0.5,\n",
    "          top_p = top_p,\n",
    "          max_tokens = max_tokens,\n",
    "          stream = stream\n",
    "        )\n",
    "\n",
    "        \n",
    "        for chunk in completion:\n",
    "          if chunk.choices[0].delta.content is not None:\n",
    "            print(chunk.choices[0].delta.content, end=\"\")\n"
   ]
  },
  {
   "cell_type": "code",
   "execution_count": 12,
   "id": "d2b77047",
   "metadata": {},
   "outputs": [],
   "source": [
    "my_LLM = LLM(api_key)"
   ]
  },
  {
   "cell_type": "code",
   "execution_count": 13,
   "id": "605ffc2b",
   "metadata": {},
   "outputs": [
    {
     "name": "stdout",
     "output_type": "stream",
     "text": [
      "Here are some interesting facts about famous computer scientists:\n",
      "\n",
      "1. **Alan Turing**: Considered the father of computer science, Turing was a British mathematician, computer scientist, and logician. He's best known for his work on cracking the German Enigma code during WWII. Turing was also a pioneer in artificial intelligence and proposed the Turing Test, a measure of a machine's ability to exhibit intelligent behavior.\n",
      "\n",
      "Interesting fact: Turing was a talented long-distance runner and was even considered for the British Olympic team in 1948.\n",
      "\n",
      "2. **Grace Hopper**: An American computer scientist and Navy Rear Admiral, Hopper was one of the first programmers of the Harvard Mark I computer. She's credited with developing the first compiler, a program that translates code from one language to another.\n",
      "\n",
      "Interesting fact: Hopper popularized the term \"bug\" to describe a computer glitch, after finding an actual moth stuck in a relay switch of the Mark II computer.\n",
      "\n",
      "3. **John McCarthy**: An American computer scientist and cognitive scientist, McCarthy is known for coining the term \"Artificial Intelligence\" (AI) in 1956. He's also credited with developing the programming language Lisp.\n",
      "\n",
      "Interesting fact: McCarthy was a pioneer in time-sharing systems, which allow multiple users to access a computer simultaneously. He also advocated for the development of AI as a way to augment human intelligence.\n",
      "\n",
      "4. **Larry Roberts**: An American computer scientist, Roberts is known as the \"father of the Internet\" for his work on the ARPANET project, which was the first operational packet switching network and a precursor to the modern Internet.\n",
      "\n",
      "Interesting fact: Roberts was a key figure in the development of the Internet Protocol (IP) and was the program manager for the ARPANET project.\n",
      "\n",
      "5. **Fei-Fei Li**: A Chinese-American computer scientist and director of the Stanford Artificial Intelligence Lab (SAIL), Li is known for her work on artificial intelligence, machine learning, and computer vision.\n",
      "\n",
      "Interesting fact: Li is the creator of ImageNet, a large-scale image database that has become a standard benchmark for object recognition and image classification tasks.\n",
      "\n",
      "6. **Donald Knuth**: An American computer scientist and professor emeritus at Stanford University, Knuth is known for his multi-volume work \"The Art of Computer Programming,\" which is considered one of the most comprehensive and influential books on computer science.\n",
      "\n",
      "Interesting fact: Knuth is a master of the pipe organ and has even composed music inspired by algorithms and computer science concepts.\n",
      "\n",
      "7. **Andrew Ng**: A British-American computer scientist and entrepreneur, Ng is known for his work on artificial intelligence, machine learning, and deep learning. He's co-founded several AI companies, including Coursera and Google Brain.\n",
      "\n",
      "Interesting fact: Ng is a strong advocate for AI education and has developed several online courses on machine learning and AI, which have been taken by millions of students worldwide.\n",
      "\n",
      "These are just a few examples of the many fascinating computer scientists who have made significant contributions to the field. I hope you find these facts interesting!"
     ]
    }
   ],
   "source": [
    "my_LLM.prompt(\"Can you tell me some facts about interesting computer scientists?\", client)"
   ]
  },
  {
   "cell_type": "code",
   "execution_count": null,
   "id": "106bf014",
   "metadata": {},
   "outputs": [],
   "source": []
  }
 ],
 "metadata": {
  "kernelspec": {
   "display_name": "Python 3 (ipykernel)",
   "language": "python",
   "name": "python3"
  },
  "language_info": {
   "codemirror_mode": {
    "name": "ipython",
    "version": 3
   },
   "file_extension": ".py",
   "mimetype": "text/x-python",
   "name": "python",
   "nbconvert_exporter": "python",
   "pygments_lexer": "ipython3",
   "version": "3.11.5"
  }
 },
 "nbformat": 4,
 "nbformat_minor": 5
}
